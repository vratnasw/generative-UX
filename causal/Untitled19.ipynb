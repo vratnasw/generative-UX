{
 "cells": [
  {
   "cell_type": "code",
   "execution_count": 1,
   "id": "5b1a3413",
   "metadata": {},
   "outputs": [],
   "source": [
    "import pandas as pd\n",
    "import numpy as np\n",
    "import matplotlib.pyplot as plt\n",
    "from sklearn.ensemble import RandomForestRegressor, GradientBoostingRegressor\n",
    "from sklearn.tree import DecisionTreeRegressor\n",
    "from xgboost import XGBRegressor\n",
    "from lightgbm import LGBMRegressor\n",
    "\n",
    "from causalml.inference.meta import BaseSRegressor, BaseTRegressor, BaseXRegressor, BaseRRegressor\n",
    "from causalml.inference.tree import UpliftTreeClassifier, UpliftRandomForestClassifier\n",
    "from causalml.dataset.regression import synthetic_data\n",
    "from sklearn.linear_model import LinearRegression\n",
    "\n",
    "import shap\n",
    "import matplotlib.pyplot as plt\n",
    "\n",
    "import time\n",
    "from sklearn.inspection import permutation_importance\n",
    "from sklearn.model_selection import train_test_split\n",
    "\n",
    "import os\n",
    "import warnings\n",
    "warnings.filterwarnings('ignore')\n",
    "\n",
    "os.environ['KMP_DUPLICATE_LIB_OK'] = 'True'  # for lightgbm to work"
   ]
  },
  {
   "cell_type": "code",
   "execution_count": 2,
   "id": "2c4ff935",
   "metadata": {},
   "outputs": [],
   "source": [
    "plt.style.use('fivethirtyeight')"
   ]
  },
  {
   "cell_type": "code",
   "execution_count": 3,
   "id": "a42e0532",
   "metadata": {},
   "outputs": [],
   "source": [
    "n_features = 25\n",
    "n_samples = 10000\n",
    "y, X, w, tau, b, e = synthetic_data(mode=1, n=n_samples, p=n_features, sigma=0.5)\n"
   ]
  },
  {
   "cell_type": "code",
   "execution_count": 4,
   "id": "76547175",
   "metadata": {},
   "outputs": [],
   "source": [
    "w_multi = np.array(['treatment_A' if x==1 else 'control' for x in w])\n",
    "e_multi = {'treatment_A': e}\n"
   ]
  },
  {
   "cell_type": "code",
   "execution_count": 5,
   "id": "8495ef15",
   "metadata": {},
   "outputs": [],
   "source": [
    "feature_names = ['stars', 'tiger', 'merciful', 'quixotic', 'fireman', 'dependent',\n",
    "                 'shelf', 'touch', 'barbarous', 'clammy', 'playground', 'rain', 'offer',\n",
    "                 'cute', 'future', 'damp', 'nonchalant', 'change', 'rigid', 'sweltering',\n",
    "                 'eight', 'wrap', 'lethal', 'adhesive', 'lip']  # specify feature names\n",
    "\n",
    "model_tau = LGBMRegressor(importance_type='gain')  # specify model for model_tau\n",
    "\n"
   ]
  },
  {
   "cell_type": "code",
   "execution_count": 6,
   "id": "ba7fee1a",
   "metadata": {},
   "outputs": [
    {
     "data": {
      "text/plain": [
       "array([0.57406345])"
      ]
     },
     "execution_count": 6,
     "metadata": {},
     "output_type": "execute_result"
    }
   ],
   "source": [
    "base_algo = LGBMRegressor()\n",
    "# base_algo = XGBRegressor()\n",
    "# base_algo = RandomForestRegressor()\n",
    "# base_algo = LinearRegression()\n",
    "\n",
    "slearner = BaseSRegressor(base_algo, control_name='control')\n",
    "slearner.estimate_ate(X, w_multi, y)"
   ]
  },
  {
   "cell_type": "code",
   "execution_count": 7,
   "id": "2022ff4c",
   "metadata": {},
   "outputs": [],
   "source": [
    "slearner_tau = slearner.fit_predict(X, w_multi, y)"
   ]
  },
  {
   "cell_type": "code",
   "execution_count": 8,
   "id": "76f7477a",
   "metadata": {},
   "outputs": [
    {
     "data": {
      "text/plain": [
       "{'treatment_A': tiger         0.426200\n",
       " stars         0.417799\n",
       " quixotic      0.097181\n",
       " merciful      0.026657\n",
       " fireman       0.025688\n",
       " wrap          0.000865\n",
       " clammy        0.000447\n",
       " change        0.000397\n",
       " touch         0.000375\n",
       " rigid         0.000361\n",
       " lip           0.000360\n",
       " sweltering    0.000346\n",
       " eight         0.000339\n",
       " adhesive      0.000319\n",
       " lethal        0.000292\n",
       " shelf         0.000291\n",
       " cute          0.000283\n",
       " playground    0.000260\n",
       " nonchalant    0.000253\n",
       " rain          0.000247\n",
       " barbarous     0.000236\n",
       " future        0.000221\n",
       " dependent     0.000220\n",
       " damp          0.000184\n",
       " offer         0.000180\n",
       " dtype: float64}"
      ]
     },
     "execution_count": 8,
     "metadata": {},
     "output_type": "execute_result"
    }
   ],
   "source": [
    "slearner.get_importance(X=X, \n",
    "                        tau=slearner_tau,\n",
    "                        normalize=True, \n",
    "                        method='auto', \n",
    "                        features=feature_names)\n"
   ]
  },
  {
   "cell_type": "code",
   "execution_count": null,
   "id": "f60c7209",
   "metadata": {},
   "outputs": [],
   "source": []
  }
 ],
 "metadata": {
  "kernelspec": {
   "display_name": "Python 3",
   "language": "python",
   "name": "python3"
  },
  "language_info": {
   "codemirror_mode": {
    "name": "ipython",
    "version": 3
   },
   "file_extension": ".py",
   "mimetype": "text/x-python",
   "name": "python",
   "nbconvert_exporter": "python",
   "pygments_lexer": "ipython3",
   "version": "3.7.10"
  }
 },
 "nbformat": 4,
 "nbformat_minor": 5
}
